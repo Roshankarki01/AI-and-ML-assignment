{
  "cells": [
    {
      "cell_type": "markdown",
      "metadata": {
        "id": "IYu6IZa07ip4"
      },
      "source": [
        "# 4 TO - DO - Task Please complete all the problem listed below. **bold text**"
      ]
    },
    {
      "cell_type": "markdown",
      "metadata": {
        "id": "BDxgOLZg7YRi"
      },
      "source": [
        "\n",
        "4.1 Exercise on Functions:\n",
        "\n",
        "Task - 1:\n",
        "Create a Python program that converts between different units of measurement.\n",
        "• The program should:\n",
        "1. Prompt the user to choose the type of conversion (e.g., length, weight, volume).\n",
        "2. Ask the user to input the value to be converted.\n",
        "3. Perform the conversion and display the result.\n",
        "4. Handle potential errors, such as invalid input or unsupported conversion types.\n",
        "• Requirements:\n",
        "1. Functions: Define at least one function to perform the conversion.\n",
        "2. Error Handling: Use try-except blocks to handle invalid input (e.g., non-numeric values).\n",
        "3. User Input: Prompt the user to select the conversion type and input the value.\n",
        "4. Docstrings: Include a docstring in your function to describe its purpose, parameters, and\n",
        "return value.\n",
        "• Conversion Options:\n",
        "1. Length:\n",
        "– Convert meters (m) to feet (ft).\n",
        "– Convert feet (ft) to meters (m).\n",
        "2. Weight:\n",
        "– Convert kilograms (kg) to pounds (lbs).\n",
        "– Convert pounds (lbs) to kilograms (kg).\n",
        "3. Volume:\n",
        "– Convert liters (L) to gallons (gal).\n",
        "– Convert gallons (gal) to liters (L)."
      ]
    },
    {
      "cell_type": "code",
      "execution_count": 14,
      "metadata": {
        "id": "s8awpdx487wc"
      },
      "outputs": [
        {
          "ename": "ModuleNotFoundError",
          "evalue": "No module named 'numpy'",
          "output_type": "error",
          "traceback": [
            "\u001b[31m---------------------------------------------------------------------------\u001b[39m",
            "\u001b[31mModuleNotFoundError\u001b[39m                       Traceback (most recent call last)",
            "\u001b[36mCell\u001b[39m\u001b[36m \u001b[39m\u001b[32mIn[14]\u001b[39m\u001b[32m, line 1\u001b[39m\n\u001b[32m----> \u001b[39m\u001b[32m1\u001b[39m \u001b[38;5;28;01mimport\u001b[39;00m\u001b[38;5;250m \u001b[39m\u001b[34;01mnumpy\u001b[39;00m\u001b[38;5;250m \u001b[39m\u001b[38;5;28;01mas\u001b[39;00m\u001b[38;5;250m \u001b[39m\u001b[34;01mnp\u001b[39;00m\n",
            "\u001b[31mModuleNotFoundError\u001b[39m: No module named 'numpy'"
          ]
        }
      ],
      "source": [
        "import numpy as np"
      ]
    },
    {
      "cell_type": "code",
      "execution_count": null,
      "metadata": {
        "colab": {
          "base_uri": "https://localhost:8080/"
        },
        "id": "bik7SjOc7P6H",
        "outputId": "936f38d4-e54a-467f-cec8-7bf473da67e2"
      },
      "outputs": [
        {
          "name": "stdout",
          "output_type": "stream",
          "text": [
            "Welcome to the unit conversion program!\n"
          ]
        }
      ],
      "source": [
        "def convert_length(value, from_unit, to_unit):\n",
        "    \"\"\"\n",
        "    Convert length between meters and feet.\n",
        "\n",
        "    Parameters:\n",
        "    value (float): The value to be converted.\n",
        "    from_unit (str): The unit to convert from ('m' or 'ft').\n",
        "    to_unit (str): The unit to convert to ('m' or 'ft').\n",
        "\n",
        "    Returns:\n",
        "    float: The converted value.\n",
        "    \"\"\"\n",
        "    if from_unit == 'm' and to_unit == 'ft':\n",
        "        return np.multiply(value, 3.28084)  # meters to feet\n",
        "    elif from_unit == 'ft' and to_unit == 'm':\n",
        "        return np.divide(value, 3.28084)  # feet to meters\n",
        "    else:\n",
        "        raise ValueError(\"Invalid units for length conversion\")\n",
        "\n",
        "def convert_weight(value, from_unit, to_unit):\n",
        "    \"\"\"\n",
        "    Convert weight between kilograms and pounds.\n",
        "\n",
        "    Parameters:\n",
        "    value (float): The value to be converted.\n",
        "    from_unit (str): The unit to convert from ('kg' or 'lbs').\n",
        "    to_unit (str): The unit to convert to ('kg' or 'lbs').\n",
        "\n",
        "    Returns:\n",
        "    float: The converted value.\n",
        "    \"\"\"\n",
        "    if from_unit == 'kg' and to_unit == 'lbs':\n",
        "        return np.multiply(value, 2.20462)  # kilograms to pounds\n",
        "    elif from_unit == 'lbs' and to_unit == 'kg':\n",
        "        return np.divide(value, 2.20462)  # pounds to kilograms\n",
        "    else:\n",
        "        raise ValueError(\"Invalid units for weight conversion\")\n",
        "\n",
        "def convert_volume(value, from_unit, to_unit):\n",
        "    \"\"\"\n",
        "    Convert volume between liters and gallons.\n",
        "\n",
        "    Parameters:\n",
        "    value (float): The value to be converted.\n",
        "    from_unit (str): The unit to convert from ('L' or 'gal').\n",
        "    to_unit (str): The unit to convert to ('L' or 'gal').\n",
        "\n",
        "    Returns:\n",
        "    float: The converted value.\n",
        "    \"\"\"\n",
        "    if from_unit == 'L' and to_unit == 'gal':\n",
        "        return np.multiply(value, 0.264172)  # liters to gallons\n",
        "    elif from_unit == 'gal' and to_unit == 'L':\n",
        "        return np.divide(value, 0.264172)  # gallons to liters\n",
        "    else:\n",
        "        raise ValueError(\"Invalid units for volume conversion\")\n",
        "\n",
        "def main():\n",
        "    print(\"Welcome to the unit conversion program!\")\n",
        "\n",
        "    # Choose conversion type\n",
        "    conversion_type = input(\"Choose conversion type (length, weight, volume): \").strip().lower()\n",
        "\n",
        "    if conversion_type not in ['length', 'weight', 'volume']:\n",
        "        print(\"Error: Invalid conversion type selected!\")\n",
        "        return\n",
        "\n",
        "    try:\n",
        "        # Get value to be converted\n",
        "        value = float(input(\"Enter the value to be converted: \"))\n",
        "\n",
        "        # Process based on conversion type\n",
        "        if conversion_type == 'length':\n",
        "            from_unit = input(\"Enter the unit to convert from (m for meters, ft for feet): \").strip()\n",
        "            to_unit = input(\"Enter the unit to convert to (m for meters, ft for feet): \").strip()\n",
        "            result = convert_length(value, from_unit, to_unit)\n",
        "\n",
        "        elif conversion_type == 'weight':\n",
        "            from_unit = input(\"Enter the unit to convert from (kg for kilograms, lbs for pounds): \").strip()\n",
        "            to_unit = input(\"Enter the unit to convert to (kg for kilograms, lbs for pounds): \").strip()\n",
        "            result = convert_weight(value, from_unit, to_unit)\n",
        "\n",
        "        elif conversion_type == 'volume':\n",
        "            from_unit = input(\"Enter the unit to convert from (L for liters, gal for gallons): \").strip()\n",
        "            to_unit = input(\"Enter the unit to convert to (L for liters, gal for gallons): \").strip()\n",
        "            result = convert_volume(value, from_unit, to_unit)\n",
        "\n",
        "        # Output result\n",
        "        print(f\"The converted value is: {result}\")\n",
        "\n",
        "    except ValueError as e:\n",
        "        print(f\"Error: {e}. Please ensure you enter a valid numeric value and unit combination.\")\n",
        "\n",
        "if __name__ == \"__main__\":\n",
        "    main()\n"
      ]
    },
    {
      "cell_type": "markdown",
      "metadata": {
        "id": "kfKfquY37u4s"
      },
      "source": [
        "Task - 2:\n",
        "Create a Python program that performs various mathematical operations on a list of numbers.\n",
        "• The Program should:\n",
        "1. Prompt the user to choose an operation (e.g., find the sum, average, maximum, or minimum\n",
        "of the numbers).\n",
        "2. Ask the user to input a list of numbers (separated by spaces).\n",
        "\n",
        "\n",
        "3. Perform the selected operation and display the result.\n",
        "4. Handle potential errors, such as invalid input or empty lists.\n",
        "• Requirements:\n",
        "\n",
        "1. Functions: Define at least one function for each operation (sum, average, maximum, mini-\n",
        "mum).\n",
        "\n",
        "2. Error Handling: Use try-except blocks to handle invalid input (e.g., non-numeric values or\n",
        "empty lists).\n",
        "3. User Input: Prompt the user to select the operation and input the list of numbers.\n",
        "4. Docstrings: Include a docstring in each function to describe its purpose, parameters, and\n",
        "return value."
      ]
    },
    {
      "cell_type": "code",
      "execution_count": null,
      "metadata": {
        "id": "6oQDqunh_5mW"
      },
      "outputs": [],
      "source": [
        "def sum_arr(numbers):\n",
        "    \"\"\"\n",
        "    Function to calculate the sum of the numbers in the list.\n",
        "\n",
        "    Parameters:\n",
        "    numbers (list): The list of numbers to be summed.\n",
        "\n",
        "    Returns:\n",
        "    float: The sum of the numbers.\n",
        "    \"\"\"\n",
        "    return sum(numbers)\n",
        "\n",
        "def avg_arr(numbers):\n",
        "    \"\"\"\n",
        "    Function to calculate the average of the numbers in the list.\n",
        "\n",
        "    Parameters:\n",
        "    numbers (list): The list of numbers to calculate the average of.\n",
        "\n",
        "    Returns:\n",
        "    float: The average of the numbers.\n",
        "    \"\"\"\n",
        "    if len(numbers) == 0:\n",
        "        raise ValueError(\"Cannot calculate the average of an empty list\")\n",
        "    return sum(numbers) / len(numbers)\n",
        "\n",
        "def maximum_arr(numbers):\n",
        "    \"\"\"\n",
        "    Function to find the maximum value in the list.\n",
        "\n",
        "    Parameters:\n",
        "    numbers (list): The list of numbers.\n",
        "\n",
        "    Returns:\n",
        "    float: The maximum value in the list.\n",
        "    \"\"\"\n",
        "    if len(numbers) == 0:\n",
        "        raise ValueError(\"Cannot find maximum of an empty list\")\n",
        "    return max(numbers)\n",
        "\n",
        "def minimum_arr(numbers):\n",
        "    \"\"\"\n",
        "    Function to find the minimum value in the list.\n",
        "\n",
        "    Parameters:\n",
        "    numbers (list): The list of numbers.\n",
        "\n",
        "    Returns:\n",
        "    float: The minimum value in the list.\n",
        "    \"\"\"\n",
        "    if len(numbers) == 0:\n",
        "        raise ValueError(\"Cannot find minimum of an empty list\")\n",
        "    return min(numbers)\n",
        "\n",
        "def main():\n",
        "    print(\"Welcome to the mathematical operations program!\")\n",
        "\n",
        "    try:\n",
        "        # Get the list of numbers from the user\n",
        "        numbers = input(\"Please enter a list of numbers separated by spaces: \").strip().split()\n",
        "\n",
        "        # Convert the input into a list of floats\n",
        "        numbers = [float(num) for num in numbers]\n",
        "\n",
        "        # Ask the user to choose an operation\n",
        "        operation = input(\"Choose an operation (sum, average, maximum, minimum): \").strip().lower()\n",
        "\n",
        "        # Perform the selected operation\n",
        "        if operation == 'sum':\n",
        "            result = sum_arr(numbers)\n",
        "            print(f\"The sum of the numbers is: {result}\")\n",
        "        elif operation == 'average':\n",
        "            result = avg_arr(numbers)\n",
        "            print(f\"The average of the numbers is: {result}\")\n",
        "        elif operation == 'maximum':\n",
        "            result = maximum_arr(numbers)\n",
        "            print(f\"The maximum value in the list is: {result}\")\n",
        "        elif operation == 'minimum':\n",
        "            result = minimum_arr(numbers)\n",
        "            print(f\"The minimum value in the list is: {result}\")\n",
        "        else:\n",
        "            print(\"Invalid operation selected.\")\n",
        "    except ValueError as e:\n",
        "        print(f\"Error: {e}. Please make sure to enter valid numbers.\")\n",
        "    except Exception as e:\n",
        "        print(f\"An unexpected error occurred: {e}\")\n",
        "\n",
        "if __name__ == \"__main__\":\n",
        "    main()\n"
      ]
    },
    {
      "cell_type": "markdown",
      "metadata": {
        "id": "iMoXf9Eo7WJh"
      },
      "source": []
    }
  ],
  "metadata": {
    "colab": {
      "provenance": []
    },
    "kernelspec": {
      "display_name": "Python 3",
      "name": "python3"
    },
    "language_info": {
      "codemirror_mode": {
        "name": "ipython",
        "version": 3
      },
      "file_extension": ".py",
      "mimetype": "text/x-python",
      "name": "python",
      "nbconvert_exporter": "python",
      "pygments_lexer": "ipython3",
      "version": "3.13.1"
    }
  },
  "nbformat": 4,
  "nbformat_minor": 0
}
