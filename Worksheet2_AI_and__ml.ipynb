{
  "nbformat": 4,
  "nbformat_minor": 0,
  "metadata": {
    "colab": {
      "provenance": []
    },
    "kernelspec": {
      "name": "python3",
      "display_name": "Python 3"
    },
    "language_info": {
      "name": "python"
    }
  },
  "cells": [
    {
      "cell_type": "code",
      "execution_count": null,
      "metadata": {
        "id": "vg3rShYR2v69"
      },
      "outputs": [],
      "source": [
        "import numpy as np\n",
        "\n",
        "def softmax(z):\n",
        "    exp_z = np.exp(z - np.max(z, axis=1, keepdims=True))  # Numerical stability\n",
        "    return exp_z / np.sum(exp_z, axis=1, keepdims=True)\n"
      ]
    },
    {
      "cell_type": "code",
      "source": [
        "z_test = np.array([[2.0, 1.0, 0.1], [1.0, 1.0, 1.0]])\n",
        "softmax_output = softmax(z_test)\n",
        "assert np.allclose(np.sum(softmax_output, axis=1), 1)\n",
        "print(\"Softmax function passed the test case!\")\n"
      ],
      "metadata": {
        "colab": {
          "base_uri": "https://localhost:8080/"
        },
        "id": "eGag4kvq3Ebk",
        "outputId": "06c67729-9da0-44ce-93d6-5c1e4d81e1ff"
      },
      "execution_count": null,
      "outputs": [
        {
          "output_type": "stream",
          "name": "stdout",
          "text": [
            "Softmax function passed the test case!\n"
          ]
        }
      ]
    },
    {
      "cell_type": "code",
      "source": [
        "def predict_softmax(X, W, b):\n",
        "    logits = np.dot(X, W) + b\n",
        "    return np.argmax(softmax(logits), axis=1)\n"
      ],
      "metadata": {
        "id": "H44Psniu56cy"
      },
      "execution_count": null,
      "outputs": []
    },
    {
      "cell_type": "markdown",
      "source": [],
      "metadata": {
        "id": "9J7bWd075-pO"
      }
    },
    {
      "cell_type": "code",
      "source": [
        "X_test = np.array([[0.2, 0.8], [0.5, 0.5], [0.9, 0.1]])\n",
        "W_test = np.array([[0.4, 0.2, 0.1], [0.3, 0.7, 0.5]])\n",
        "b_test = np.array([0.1, 0.2, 0.3])\n",
        "y_pred_test = predict_softmax(X_test, W_test, b_test)\n",
        "assert y_pred_test.shape == (3,)\n",
        "print(\"Predicted class labels:\", y_pred_test)\n"
      ],
      "metadata": {
        "colab": {
          "base_uri": "https://localhost:8080/"
        },
        "id": "ezSRk9qr59gs",
        "outputId": "f043923e-690b-4557-9c58-e1460a115b8b"
      },
      "execution_count": null,
      "outputs": [
        {
          "output_type": "stream",
          "name": "stdout",
          "text": [
            "Predicted class labels: [1 1 0]\n"
          ]
        }
      ]
    },
    {
      "cell_type": "code",
      "source": [
        "def loss_softmax(y_pred, y_true):\n",
        "    return -np.mean(np.sum(y_true * np.log(y_pred + 1e-8), axis=1))\n"
      ],
      "metadata": {
        "id": "bKlHfcsW6Drp"
      },
      "execution_count": null,
      "outputs": []
    },
    {
      "cell_type": "code",
      "source": [
        "y_true = np.array([[1, 0, 0], [0, 1, 0], [0, 0, 1]])\n",
        "y_pred = np.array([[0.9, 0.05, 0.05], [0.1, 0.85, 0.05], [0.05, 0.1, 0.85]])\n",
        "assert loss_softmax(y_pred, y_true) < loss_softmax(y_pred[::-1], y_true)\n",
        "print(\"Loss function passed the test case!\")\n"
      ],
      "metadata": {
        "colab": {
          "base_uri": "https://localhost:8080/"
        },
        "id": "HMFn2kxG6GrK",
        "outputId": "5c42a81c-46b1-4f12-d599-102d245d1fd2"
      },
      "execution_count": null,
      "outputs": [
        {
          "output_type": "stream",
          "name": "stdout",
          "text": [
            "Loss function passed the test case!\n"
          ]
        }
      ]
    },
    {
      "cell_type": "code",
      "source": [
        "def cost_softmax(X, y, W, b):\n",
        "    logits = np.dot(X, W) + b\n",
        "    y_pred = softmax(logits)\n",
        "    return loss_softmax(y_pred, y)\n"
      ],
      "metadata": {
        "id": "9LzqHBzd6JAh"
      },
      "execution_count": null,
      "outputs": []
    },
    {
      "cell_type": "code",
      "source": [
        "def compute_gradient_softmax(X, y, W, b):\n",
        "    m = X.shape[0]\n",
        "    y_pred = softmax(np.dot(X, W) + b)\n",
        "    grad_W = np.dot(X.T, (y_pred - y)) / m\n",
        "    grad_b = np.sum(y_pred - y, axis=0) / m\n",
        "    return grad_W, grad_b\n"
      ],
      "metadata": {
        "id": "HMSILGZV6LS-"
      },
      "execution_count": null,
      "outputs": []
    },
    {
      "cell_type": "code",
      "source": [
        "def gradient_descent_softmax(X, y, W, b, alpha, n_iter):\n",
        "    cost_history = []\n",
        "    for i in range(n_iter):\n",
        "        grad_W, grad_b = compute_gradient_softmax(X, y, W, b)\n",
        "        W -= alpha * grad_W\n",
        "        b -= alpha * grad_b\n",
        "        cost_history.append(loss_softmax(softmax(np.dot(X, W) + b), y))\n",
        "    return W, b, cost_history\n"
      ],
      "metadata": {
        "id": "yeiZAbnp6Nd0"
      },
      "execution_count": null,
      "outputs": []
    },
    {
      "cell_type": "code",
      "source": [
        "import pandas as pd\n",
        "import numpy as np\n",
        "from sklearn.model_selection import train_test_split\n",
        "\n",
        "# Load MNIST CSV file\n",
        "df = pd.read_csv(\"/content/drive/MyDrive/ml/mnist_dataset.csv\")  # Change to the correct file path\n",
        "\n",
        "# Extract labels and features\n",
        "y = df.iloc[:, 0].values  # Labels (digits 0-9)\n",
        "X = df.iloc[:, 1:].values / 255.0  # Normalize pixel values (0-255 → 0-1)\n",
        "\n",
        "# Split into training and testing sets (80% train, 20% test)\n",
        "X_train, X_test, y_train, y_test = train_test_split(X, y, test_size=0.2, random_state=42)\n",
        "\n",
        "print(\"Dataset Loaded Successfully!\")\n"
      ],
      "metadata": {
        "colab": {
          "base_uri": "https://localhost:8080/"
        },
        "id": "AYY16D0S6QvM",
        "outputId": "bfe63543-84aa-4e80-b258-5f20cc2f17a6"
      },
      "execution_count": null,
      "outputs": [
        {
          "output_type": "stream",
          "name": "stdout",
          "text": [
            "Dataset Loaded Successfully!\n"
          ]
        }
      ]
    },
    {
      "cell_type": "code",
      "source": [
        "from sklearn.preprocessing import OneHotEncoder\n",
        "encoder = OneHotEncoder(sparse_output=False)\n",
        "y_train_one_hot = encoder.fit_transform(y_train.reshape(-1, 1))\n",
        "y_test_one_hot = encoder.transform(y_test.reshape(-1, 1))\n",
        "\n",
        "W = np.random.randn(X_train.shape[1], y_train_one_hot.shape[1]) * 0.01\n",
        "b = np.zeros(y_train_one_hot.shape[1])\n",
        "\n",
        "W_opt, b_opt, cost_history = gradient_descent_softmax(X_train, y_train_one_hot, W, b, alpha=0.1, n_iter=1000)\n"
      ],
      "metadata": {
        "id": "AVzirm-u9jxp"
      },
      "execution_count": null,
      "outputs": []
    },
    {
      "cell_type": "code",
      "source": [
        "plt.plot(cost_history)\n",
        "plt.xlabel('Iterations')\n",
        "plt.ylabel('Cost')\n",
        "plt.title('Cost Function vs. Iterations')\n",
        "plt.show()\n"
      ],
      "metadata": {
        "colab": {
          "base_uri": "https://localhost:8080/",
          "height": 472
        },
        "id": "I-Fjdehy-IU3",
        "outputId": "bb513d99-c9b8-4dbb-f7c6-9c7778995b4c"
      },
      "execution_count": null,
      "outputs": [
        {
          "output_type": "display_data",
          "data": {
            "text/plain": [
              "<Figure size 640x480 with 1 Axes>"
            ],
            "image/png": "[encoded data removed]"
          },
          "metadata": {}
        }
      ]
    },
    {
      "cell_type": "code",
      "source": [
        "print(\"y_train exists:\", \"y_train\" in locals())\n",
        "print(\"y_test exists:\", \"y_test\" in locals())\n"
      ],
      "metadata": {
        "colab": {
          "base_uri": "https://localhost:8080/"
        },
        "id": "1K6WmQkJ8mMD",
        "outputId": "485bc7d9-e564-4cb7-a607-9f64d2503357"
      },
      "execution_count": null,
      "outputs": [
        {
          "output_type": "stream",
          "name": "stdout",
          "text": [
            "y_train exists: True\n",
            "y_test exists: True\n"
          ]
        }
      ]
    },
    {
      "cell_type": "code",
      "source": [
        "from sklearn.metrics import confusion_matrix, precision_score, recall_score, f1_score\n",
        "\n",
        "y_pred_test = predict_softmax(X_test, W_opt, b_opt)\n",
        "cm = confusion_matrix(np.argmax(y_test_one_hot, axis=1), y_pred_test)\n",
        "precision = precision_score(np.argmax(y_test_one_hot, axis=1), y_pred_test, average='weighted')\n",
        "recall = recall_score(np.argmax(y_test_one_hot, axis=1), y_pred_test, average='weighted')\n",
        "f1 = f1_score(np.argmax(y_test_one_hot, axis=1), y_pred_test, average='weighted')\n",
        "\n",
        "print(f\"Confusion Matrix:\\n{cm}\")\n",
        "print(f\"Precision: {precision:.2f}, Recall: {recall:.2f}, F1-Score: {f1:.2f}\")\n"
      ],
      "metadata": {
        "colab": {
          "base_uri": "https://localhost:8080/"
        },
        "id": "-GUmd85v78pE",
        "outputId": "811179bb-92fb-469b-bc0a-84134d5fb84e"
      },
      "execution_count": null,
      "outputs": [
        {
          "output_type": "stream",
          "name": "stdout",
          "text": [
            "Confusion Matrix:\n",
            "[[1127    0    5    2    3   11    9    2   13    3]\n",
            " [   0 1274    7   11    1    5    1    4   18    1]\n",
            " [   3   15 1028   16   19    2   27   24   33    7]\n",
            " [   8    5   34 1051    1   53    9    8   29   21]\n",
            " [   1    5    7    1 1094    0   10    4    3   51]\n",
            " [  22   14   13   42   12  923   14    7   43   14]\n",
            " [   6    2   10    1   10   15 1121    2   10    0]\n",
            " [   7   27   23    5   15    3    0 1183    7   29]\n",
            " [   9   26   14   36    9   32   13    6 1000   15]\n",
            " [   7    6   10   18   42    9    0   38   10 1054]]\n",
            "Precision: 0.90, Recall: 0.90, F1-Score: 0.90\n"
          ]
        }
      ]
    },
    {
      "cell_type": "code",
      "source": [
        "from sklearn.datasets import make_classification, make_circles\n",
        "from sklearn.linear_model import LogisticRegression\n",
        "\n",
        "X_lin, y_lin = make_classification(n_samples=200, n_features=2, n_redundant=0, n_clusters_per_class=1, random_state=42)\n",
        "log_reg_lin = LogisticRegression().fit(X_lin, y_lin)\n",
        "\n",
        "X_nonlin, y_nonlin = make_circles(n_samples=200, noise=0.1, factor=0.5, random_state=42)\n",
        "log_reg_nonlin = LogisticRegression().fit(X_nonlin, y_nonlin)\n"
      ],
      "metadata": {
        "id": "4GmIHGQ-8A1V"
      },
      "execution_count": null,
      "outputs": []
    }
  ]
}